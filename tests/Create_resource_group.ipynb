{
 "cells": [
  {
   "cell_type": "markdown",
   "metadata": {},
   "source": [
    "### Create a resource group in Azure"
   ]
  },
  {
   "cell_type": "code",
   "execution_count": 6,
   "metadata": {},
   "outputs": [
    {
     "ename": "ModuleNotFoundError",
     "evalue": "No module named 'azure_utils'",
     "output_type": "error",
     "traceback": [
      "\u001b[1;31m---------------------------------------------------------------------------\u001b[0m",
      "\u001b[1;31mModuleNotFoundError\u001b[0m                       Traceback (most recent call last)",
      "\u001b[1;32mc:\\Workspace\\opaz0002\\Github\\azure_utils\\Examples\\Create_resource_group.ipynb Cell 2\u001b[0m line \u001b[0;36m<cell line: 3>\u001b[1;34m()\u001b[0m\n\u001b[0;32m      <a href='vscode-notebook-cell:/c%3A/Workspace/opaz0002/Github/azure_utils/Examples/Create_resource_group.ipynb#W1sZmlsZQ%3D%3D?line=0'>1</a>\u001b[0m \u001b[39m#import libraries\u001b[39;00m\n\u001b[0;32m      <a href='vscode-notebook-cell:/c%3A/Workspace/opaz0002/Github/azure_utils/Examples/Create_resource_group.ipynb#W1sZmlsZQ%3D%3D?line=1'>2</a>\u001b[0m \u001b[39mimport\u001b[39;00m \u001b[39mos\u001b[39;00m\n\u001b[1;32m----> <a href='vscode-notebook-cell:/c%3A/Workspace/opaz0002/Github/azure_utils/Examples/Create_resource_group.ipynb#W1sZmlsZQ%3D%3D?line=2'>3</a>\u001b[0m \u001b[39mimport\u001b[39;00m \u001b[39mazure_utils\u001b[39;00m\n",
      "\u001b[1;31mModuleNotFoundError\u001b[0m: No module named 'azure_utils'"
     ]
    }
   ],
   "source": [
    "#import libraries\n",
    "import os\n",
    "import azure_utils"
   ]
  },
  {
   "cell_type": "code",
   "execution_count": 5,
   "metadata": {},
   "outputs": [
    {
     "name": "stdout",
     "output_type": "stream",
     "text": [
      "Provisioned resource group with ID: /subscriptions/7030266b-a4a1-44ac-b3d4-3122a8227838/resourceGroups/pest_resources\n"
     ]
    }
   ],
   "source": [
    "resource_group_name = 'pest_resources'\n",
    "location = 'eastus'\n",
    "\n",
    "#read subscription id\n",
    "with open(os.path.join('../account_files','as.dat'),'r') as f:\n",
    "    subscription_id = f.readline() # file with the subscription id in it.\n",
    "f.close()\n",
    "\n",
    "azure_utils.create_resource_group(resource_group_name, location, subscription_id)\n"
   ]
  },
  {
   "cell_type": "code",
   "execution_count": null,
   "metadata": {},
   "outputs": [],
   "source": []
  }
 ],
 "metadata": {
  "kernelspec": {
   "display_name": "azure_env",
   "language": "python",
   "name": "python3"
  },
  "language_info": {
   "codemirror_mode": {
    "name": "ipython",
    "version": 3
   },
   "file_extension": ".py",
   "mimetype": "text/x-python",
   "name": "python",
   "nbconvert_exporter": "python",
   "pygments_lexer": "ipython3",
   "version": "3.10.6"
  }
 },
 "nbformat": 4,
 "nbformat_minor": 2
}
