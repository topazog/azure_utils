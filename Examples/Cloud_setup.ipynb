{
 "cells": [
  {
   "cell_type": "code",
   "execution_count": 7,
   "metadata": {
    "scrolled": false
   },
   "outputs": [],
   "source": [
    "import azure_utils\n",
    "import os"
   ]
  },
  {
   "cell_type": "code",
   "execution_count": 8,
   "metadata": {},
   "outputs": [],
   "source": [
    "pestfiles_dir = \"path_to_pest_files\"\n",
    "\n",
    "azurefiles_dir = \"path_to_azure_script_files\"  #does not have to be created beforehand\n",
    "\n",
    "if not os.path.exists(azurefiles_dir):\n",
    "    os.makedirs(azurefiles_dir)"
   ]
  },
  {
   "cell_type": "code",
   "execution_count": 9,
   "metadata": {},
   "outputs": [],
   "source": [
    "with open(\"Acs.dat\",\"r\") as f: # file with the connection string in it.\n",
    "    acs = f.readline()\n",
    "f.close()\n",
    "\n",
    "with open(\"As.dat\",\"r\") as f:\n",
    "    subscription_id = f.readline() # file with the subscription id in it.\n",
    "f.close()\n",
    "\n",
    "#create a config file for later use\n",
    "\n",
    "with open(os.path.join(azurefiles_dir,\"config.yaml\"),\"w\") as g:\n",
    "    g.write('azure_storage_connectionstring: \"{0}\"\\n'.format(acs))\n",
    "    g.write('storage_account_name: \"pestfiles\"\\n')\n",
    "    g.write('input_container_name: \"pestinputs\"\\n')\n",
    "    g.write('scripts_container_name: \"scripts\"\\n')"
   ]
  },
  {
   "cell_type": "markdown",
   "metadata": {},
   "source": [
    "Load the config file"
   ]
  },
  {
   "cell_type": "code",
   "execution_count": 10,
   "metadata": {},
   "outputs": [],
   "source": [
    "config = azure_utils.load_config(azurefiles_dir)"
   ]
  },
  {
   "cell_type": "markdown",
   "metadata": {},
   "source": [
    "Delete the existing files in both containers (pestinputs, scripts)"
   ]
  },
  {
   "cell_type": "code",
   "execution_count": null,
   "metadata": {},
   "outputs": [],
   "source": [
    "# This step is optional if you want to delete previous files in the containers\n",
    "\n",
    "azure_utils.delete_blobs(config[\"azure_storage_connectionstring\"],config[\"scripts_container_name\"])\n",
    "azure_utils.delete_blobs(config[\"azure_storage_connectionstring\"],config[\"input_container_name\"])"
   ]
  },
  {
   "cell_type": "markdown",
   "metadata": {},
   "source": [
    "Define the azure resource group and location"
   ]
  },
  {
   "cell_type": "code",
   "execution_count": 11,
   "metadata": {},
   "outputs": [],
   "source": [
    "resource_group_name = 'pesthp'\n",
    "location = 'eastus'\n",
    "storage_account_name = 'pestfiles'"
   ]
  },
  {
   "cell_type": "markdown",
   "metadata": {},
   "source": [
    "Define the Network and IP address names"
   ]
  },
  {
   "cell_type": "code",
   "execution_count": 12,
   "metadata": {},
   "outputs": [],
   "source": [
    "vnet_name = \"pesthp-vnet\"\n",
    "subnet_name = \"pesthp-subnet\"\n",
    "ip_name = \"pesthp-ip\"\n",
    "nsg_name = \"pesthp_nsg\"\n",
    "ip_config_name = \"pesthp-ip-config\"\n",
    "nic_name = \"pesthp-nic\"\n",
    "hpmanager_script_name=\"manager_script.ps1\"\n",
    "hpagent_script_name=\"agent_script.ps1\""
   ]
  },
  {
   "cell_type": "code",
   "execution_count": 13,
   "metadata": {},
   "outputs": [
    {
     "name": "stdout",
     "output_type": "stream",
     "text": [
      "\n",
      "Provisioned virtual network pesthp-vnet with address prefixes ['10.0.0.0/16']\n",
      "Provisioned virtual subnet pesthp-subnet with address prefix 10.0.0.0/24\n",
      "Provisioned public IP address pesthp-ip with address 40.117.234.105\n",
      "Provisioned network security group pesthp_nsg\n",
      "Provisioned network interface client pesthp-nic\n",
      "Uploading files to blob storage\n",
      ".\\mnsda_ies\\pest_runs\\azure_files\\agent_script.ps1\n",
      "agent_script.ps1 uploaded to blob storage\n",
      ".\\mnsda_ies\\pest_runs\\azure_files\\config.yaml\n",
      "config.yaml uploaded to blob storage\n",
      ".\\mnsda_ies\\pest_runs\\azure_files\\manager_script.ps1\n",
      "manager_script.ps1 uploaded to blob storage\n",
      "Uploading files to blob storage\n",
      "\n",
      "Provisioning manager virtual machine managerVM; this operation might take a few minutes.\n",
      "Provisioned manager virtual machine managerVM\n",
      "Provisioned network interface client pesthp-nic1\n",
      "\n",
      "Provisioning manager virtual machine agentVM1; this operation might take a few minutes.\n",
      "Provisioned manager virtual machine agentVM1\n"
     ]
    }
   ],
   "source": [
    "pst_final = \"mnsda_ies_1.pst\"\n",
    "\n",
    "if __name__ == '__main__':\n",
    "    \n",
    "    man_script = azure_utils.gen_hpmanager_script(azurefiles_dir,\n",
    "                    config[\"storage_account_name\"],\n",
    "                    config[\"input_container_name\"],\n",
    "                    config[\"azure_storage_connectionstring\"],\n",
    "                    pst_final,\n",
    "                    4004,hpmanager_script_name,\"pestpp-ies.exe\")\n",
    "    \n",
    "    #Create the network_client and compute cliente objects\n",
    "    network_client = azure_utils.create_network_client(subscription_id)\n",
    "    compute_client = azure_utils.create_compute_client(subscription_id)\n",
    "    \n",
    "    vnet_result = azure_utils.create_vnet(network_client,resource_group_name,location,vnet_name)\n",
    "    subnet_result = azure_utils.create_subnet(resource_group_name,network_client,vnet_result.name,subnet_name)\n",
    "    public_ip_address = azure_utils.create_public_ip_address(resource_group_name,location,network_client,ip_name)\n",
    "    nsg_result = azure_utils.create_nsg(resource_group_name,location,network_client,nsg_name)\n",
    "    manager_nic = azure_utils.create_nic(resource_group_name,location,network_client,\n",
    "                subnet_result,nsg_result,nic_name,ip_config_name,\n",
    "                public_ip_address)\n",
    "    \n",
    "    agent_script = azure_utils.gen_hpagent_script(azurefiles_dir,\n",
    "                    config[\"storage_account_name\"],\n",
    "                    config[\"input_container_name\"],\n",
    "                    config[\"azure_storage_connectionstring\"],\n",
    "                    2,pst_final,manager_nic[1],4004,hpagent_script_name,\"pestpp-ies.exe\")\n",
    "    \n",
    "    script_files=azure_utils.get_files(azurefiles_dir)\n",
    "    pest_input_files=azure_utils.get_files(pestfiles_dir)\n",
    "    azure_utils.upload_blobs(script_files,config[\"azure_storage_connectionstring\"],config[\"scripts_container_name\"])\n",
    "    azure_utils.upload_blobs(pest_input_files,config[\"azure_storage_connectionstring\"],config[\"input_container_name\"])\n",
    "    \n",
    "    vm_name = \"managerVM\"\n",
    "    vm_size = \"Standard_F16s_v2\"\n",
    "    username = \"manageruser\"\n",
    "    password = \"ChangePa$$w0rd21\"\n",
    "\n",
    "    manager_vm = azure_utils.create_vm(resource_group_name,location,compute_client,manager_nic[0],\n",
    "                                    vm_name,vm_size,username,password)\n",
    "    \n",
    "    # Add extension to vm\n",
    "    ext_name = 'customscript_hp'\n",
    "    myExecutionCommand = 'powershell.exe -ExecutionPolicy Unrestricted -File '+hpmanager_script_name\n",
    "    script_location = 'https://'+storage_account_name+'.blob.core.windows.net/'+config[\"scripts_container_name\"]+'/'+hpmanager_script_name\n",
    "\n",
    "    hpmanager_custom_script=azure_utils.add_custom_script_extension_to_vm(resource_group_name,\n",
    "                                                                      location,compute_client,\n",
    "                                                                      vm_name,ext_name,\n",
    "                                                                      myExecutionCommand,\n",
    "                                                                      script_location)\n",
    "\n",
    "    \n",
    "# for agents\n",
    "\n",
    "    vm_size = \"Standard_F2s_v2\"\n",
    "    ext_name = 'customscript_hp'\n",
    "    myExecutionCommand = 'powershell.exe -ExecutionPolicy Unrestricted -File '+hpagent_script_name\n",
    "    script_location = 'https://'+storage_account_name+'.blob.core.windows.net/'+config[\"scripts_container_name\"]+'/'+hpagent_script_name\n",
    "\n",
    "    for iagent in range(98):\n",
    "        nic_name = \"pesthp-nic\"+str(iagent+1)\n",
    "        vm_name = \"agentVM\"+str(iagent+1)\n",
    "        username = \"agentuser\"+str(iagent+1)\n",
    "        password = \"ChangePa$$w0rd21\"\n",
    "        manager_nic = azure_utils.create_nic(resource_group_name,location,network_client,\n",
    "                subnet_result,nsg_result,nic_name,ip_config_name)\n",
    "    \n",
    "        agent_vm = azure_utils.create_vm(resource_group_name,location,compute_client,manager_nic[0],\n",
    "                                    vm_name,vm_size,username,password)\n",
    "    \n",
    "        hpmanager_custom_script=azure_utils.add_custom_script_extension_to_vm(resource_group_name,\n",
    "                                                                      location,compute_client,\n",
    "                                                                      vm_name,ext_name,\n",
    "                                                                      myExecutionCommand,\n",
    "                                                                      script_location)"
   ]
  },
  {
   "cell_type": "code",
   "execution_count": null,
   "metadata": {},
   "outputs": [],
   "source": []
  },
  {
   "cell_type": "code",
   "execution_count": null,
   "metadata": {},
   "outputs": [],
   "source": []
  }
 ],
 "metadata": {
  "kernelspec": {
   "display_name": "cloud_test2",
   "language": "python",
   "name": "cloud_test2"
  },
  "language_info": {
   "codemirror_mode": {
    "name": "ipython",
    "version": 3
   },
   "file_extension": ".py",
   "mimetype": "text/x-python",
   "name": "python",
   "nbconvert_exporter": "python",
   "pygments_lexer": "ipython3",
   "version": "3.10.2"
  }
 },
 "nbformat": 4,
 "nbformat_minor": 4
}
